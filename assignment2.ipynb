{
 "cells": [
  {
   "cell_type": "code",
   "execution_count": 1,
   "metadata": {},
   "outputs": [],
   "source": [
    "from sklearn import datasets\n",
    "from sklearn.model_selection import KFold\n",
    "import numpy as np\n",
    "\n",
    "from itertools import combinations"
   ]
  },
  {
   "cell_type": "code",
   "execution_count": 2,
   "metadata": {},
   "outputs": [],
   "source": [
    "DATA_PER_CLASS = 50"
   ]
  },
  {
   "cell_type": "markdown",
   "metadata": {},
   "source": [
    "# Base classifier model"
   ]
  },
  {
   "cell_type": "code",
   "execution_count": 3,
   "metadata": {},
   "outputs": [],
   "source": [
    "class BaseClassifier:\n",
    "    def __init__(self, data: np.ndarray, target: np.ndarray):\n",
    "        self.data = data\n",
    "        self.target = target\n",
    "\n",
    "        self._w = {}\n",
    "\n",
    "    def __str__(self):\n",
    "        pass\n",
    "\n",
    "    # def getW(self):\n",
    "    #     return self._w\n",
    "\n",
    "    # def k_fold_split(self, n_folds: int) -> list:\n",
    "    #     pass\n",
    "\n",
    "    def fit(self) -> list:\n",
    "        pass\n",
    "\n",
    "    def predict(self, test: list) -> float:\n",
    "        pass\n",
    "\n",
    "    def test(self, k) -> list:\n",
    "        pass"
   ]
  },
  {
   "cell_type": "markdown",
   "metadata": {},
   "source": [
    "# 2-class discriminant function classifier using one-vs-one combination"
   ]
  },
  {
   "cell_type": "code",
   "execution_count": 4,
   "metadata": {},
   "outputs": [],
   "source": [
    "# class_pairs = list(combinations(np.unique(target), 2))\n",
    "# class_pairs"
   ]
  },
  {
   "cell_type": "code",
   "execution_count": 5,
   "metadata": {},
   "outputs": [],
   "source": [
    "class TwoClassesOneOneClassifier(BaseClassifier):\n",
    "    def __init__(self, data, target):\n",
    "        super().__init__(data,target)\n",
    "    \n",
    "    def __str__(self):\n",
    "        return f\"TwoClassesOneOneClassifier(numClasses = {len(np.unique(self.target))})\"\n",
    "    \n",
    "    def fit(self, train_data, train_target):\n",
    "        class_pairs = list(combinations(np.unique(train_target), 2))\n",
    "        \n",
    "        for (first, second) in class_pairs:\n",
    "            idx = np.where((train_target == first) | (train_target == second))\n",
    "            tempX = train_data[idx]\n",
    "            tempT = train_target[idx]\n",
    "            tempT[tempT == first] = -1\n",
    "            tempT[tempT == second] = 1\n",
    "            self._w[(first, second)] = np.dot(np.linalg.pinv(tempX),tempT)\n",
    "        return self._w\n",
    "\n",
    "    def predict(self, test, pair_id):\n",
    "        # print(pair_id)\n",
    "        # print(np.dot(np.transpose(self._w[pair_id]),np.array(test)))\n",
    "        return int(np.dot(np.transpose(self._w[pair_id]),np.array(test)) > 0)\n",
    "    \n",
    "    def test(self, k):\n",
    "        kf = KFold(n_splits=k, shuffle=True, random_state=50)\n",
    "        acc_by_folds = []\n",
    "\n",
    "        for train_index, test_index in kf.split(self.data):\n",
    "            train_data, test_data = self.data[train_index], self.data[test_index]\n",
    "            train_target, test_target = self.target[train_index], self.target[test_index]\n",
    "            \n",
    "            class_pairs = list(combinations(np.unique(test_target), 2))\n",
    "            self.fit(train_data,train_target)\n",
    "            acc_by_pairs = []\n",
    "    \n",
    "            for (first, second) in class_pairs:\n",
    "                idx = np.where((test_target == first) | (test_target == second))\n",
    "                tempX = test_data[idx]\n",
    "                tempT = test_target[idx]\n",
    "                tempT[tempT == first] = 0\n",
    "                tempT[tempT == second] = 1\n",
    "                acc = 0\n",
    "                # print(tempT)\n",
    "                for i, test in enumerate(tempX):\n",
    "                    if self.predict(test, (first, second)) == tempT[i]:\n",
    "                        acc += 1\n",
    "                acc_by_pairs.append(acc/len(tempX))\n",
    "            acc_by_folds.append(acc_by_pairs)\n",
    "\n",
    "        return acc_by_folds\n",
    "                \n",
    "        "
   ]
  },
  {
   "cell_type": "markdown",
   "metadata": {},
   "source": [
    "# 2-class discriminant function classifier using one-vs-rest combination"
   ]
  },
  {
   "cell_type": "code",
   "execution_count": 6,
   "metadata": {},
   "outputs": [],
   "source": [
    "class TwoClassesOneRestClassifier(BaseClassifier):\n",
    "    def __init__(self, data, target):\n",
    "        super().__init__(data,target)\n",
    "    \n",
    "    def __str__(self):\n",
    "        return f\"TwoClassesOneRestClassifier(numClasses = {len(np.unique(self.target))})\"\n",
    "    \n",
    "    def fit(self, train_data, train_target):\n",
    "        for first in range(3):\n",
    "            idx = np.where((train_target == first) | (train_target != first))\n",
    "            tempX = train_data[idx]\n",
    "            tempT = train_target[idx]\n",
    "            tempT[tempT == first] = -1\n",
    "            tempT[tempT != first] = 1\n",
    "            self._w[first] = np.dot(np.linalg.pinv(tempX),tempT)\n",
    "        return self._w\n",
    "\n",
    "    def predict(self, test, pair_id):\n",
    "        return int(np.dot(np.transpose(self._w[pair_id]),np.array(test)) > 0)\n",
    "    \n",
    "    def test(self, k):\n",
    "        kf = KFold(n_splits=k, shuffle=True, random_state=50)\n",
    "        acc_by_folds = []\n",
    "\n",
    "        for train_index, test_index in kf.split(self.data):\n",
    "            train_data, test_data = self.data[train_index], self.data[test_index]\n",
    "            train_target, test_target = self.target[train_index], self.target[test_index]\n",
    "            \n",
    "            # class_pairs = list(combinations(np.unique(test_target), 2))\n",
    "            self.fit(train_data,train_target)\n",
    "            acc_by_pairs = []\n",
    "    \n",
    "            for first in range(3):\n",
    "                idx = np.where((test_target == first) | (test_target != first))\n",
    "                tempX = test_data[idx]\n",
    "                tempT = test_target[idx]\n",
    "                tempT[tempT == first] = 0\n",
    "                tempT[tempT != first] = 1\n",
    "                acc = 0\n",
    "                # print(tempT)\n",
    "                for i, test in enumerate(tempX):\n",
    "                    # print(\"test:\",test)\n",
    "                    # t = self.predict(test, (first, second))\n",
    "                    # print(t)\n",
    "                    if self.predict(test, first) == tempT[i]:\n",
    "                        acc += 1\n",
    "                acc_by_pairs.append(acc/len(tempX))\n",
    "            acc_by_folds.append(acc_by_pairs)\n",
    "\n",
    "        return acc_by_folds"
   ]
  },
  {
   "cell_type": "markdown",
   "metadata": {},
   "source": [
    "# 3-class discriminant function classifier"
   ]
  },
  {
   "cell_type": "code",
   "execution_count": 7,
   "metadata": {},
   "outputs": [],
   "source": [
    "class ThreeClassesClassifier(BaseClassifier):\n",
    "    pass"
   ]
  },
  {
   "cell_type": "markdown",
   "metadata": {},
   "source": [
    "# 3-class Fisher's discriminant function classifier"
   ]
  },
  {
   "cell_type": "code",
   "execution_count": 8,
   "metadata": {},
   "outputs": [],
   "source": [
    "class ThreeClassesFisherClassifier(BaseClassifier):\n",
    "    pass"
   ]
  },
  {
   "cell_type": "markdown",
   "metadata": {},
   "source": [
    "# 3-class Bayesian discriminant function classifier"
   ]
  },
  {
   "cell_type": "code",
   "execution_count": 9,
   "metadata": {},
   "outputs": [],
   "source": [
    "class ThressClassesBayesianClassifier(BaseClassifier):\n",
    "    pass"
   ]
  },
  {
   "cell_type": "markdown",
   "metadata": {},
   "source": [
    "# Load data and predict"
   ]
  },
  {
   "cell_type": "code",
   "execution_count": 10,
   "metadata": {},
   "outputs": [],
   "source": [
    "# def test(classifier: BaseClassifier, input: list) -> int:\n",
    "#     pass"
   ]
  },
  {
   "cell_type": "code",
   "execution_count": 11,
   "metadata": {},
   "outputs": [],
   "source": [
    "def k_fold_test(classifier: BaseClassifier) -> list:\n",
    "    pass"
   ]
  },
  {
   "cell_type": "code",
   "execution_count": 12,
   "metadata": {},
   "outputs": [
    {
     "data": {
      "text/plain": [
       "array([[5.1, 3.5, 1.4, 0.2],\n",
       "       [4.9, 3. , 1.4, 0.2],\n",
       "       [4.7, 3.2, 1.3, 0.2],\n",
       "       [4.6, 3.1, 1.5, 0.2],\n",
       "       [5. , 3.6, 1.4, 0.2],\n",
       "       [5.4, 3.9, 1.7, 0.4],\n",
       "       [4.6, 3.4, 1.4, 0.3],\n",
       "       [5. , 3.4, 1.5, 0.2],\n",
       "       [4.4, 2.9, 1.4, 0.2],\n",
       "       [4.9, 3.1, 1.5, 0.1],\n",
       "       [5.4, 3.7, 1.5, 0.2],\n",
       "       [4.8, 3.4, 1.6, 0.2],\n",
       "       [4.8, 3. , 1.4, 0.1],\n",
       "       [4.3, 3. , 1.1, 0.1],\n",
       "       [5.8, 4. , 1.2, 0.2],\n",
       "       [5.7, 4.4, 1.5, 0.4],\n",
       "       [5.4, 3.9, 1.3, 0.4],\n",
       "       [5.1, 3.5, 1.4, 0.3],\n",
       "       [5.7, 3.8, 1.7, 0.3],\n",
       "       [5.1, 3.8, 1.5, 0.3],\n",
       "       [5.4, 3.4, 1.7, 0.2],\n",
       "       [5.1, 3.7, 1.5, 0.4],\n",
       "       [4.6, 3.6, 1. , 0.2],\n",
       "       [5.1, 3.3, 1.7, 0.5],\n",
       "       [4.8, 3.4, 1.9, 0.2],\n",
       "       [5. , 3. , 1.6, 0.2],\n",
       "       [5. , 3.4, 1.6, 0.4],\n",
       "       [5.2, 3.5, 1.5, 0.2],\n",
       "       [5.2, 3.4, 1.4, 0.2],\n",
       "       [4.7, 3.2, 1.6, 0.2],\n",
       "       [4.8, 3.1, 1.6, 0.2],\n",
       "       [5.4, 3.4, 1.5, 0.4],\n",
       "       [5.2, 4.1, 1.5, 0.1],\n",
       "       [5.5, 4.2, 1.4, 0.2],\n",
       "       [4.9, 3.1, 1.5, 0.2],\n",
       "       [5. , 3.2, 1.2, 0.2],\n",
       "       [5.5, 3.5, 1.3, 0.2],\n",
       "       [4.9, 3.6, 1.4, 0.1],\n",
       "       [4.4, 3. , 1.3, 0.2],\n",
       "       [5.1, 3.4, 1.5, 0.2],\n",
       "       [5. , 3.5, 1.3, 0.3],\n",
       "       [4.5, 2.3, 1.3, 0.3],\n",
       "       [4.4, 3.2, 1.3, 0.2],\n",
       "       [5. , 3.5, 1.6, 0.6],\n",
       "       [5.1, 3.8, 1.9, 0.4],\n",
       "       [4.8, 3. , 1.4, 0.3],\n",
       "       [5.1, 3.8, 1.6, 0.2],\n",
       "       [4.6, 3.2, 1.4, 0.2],\n",
       "       [5.3, 3.7, 1.5, 0.2],\n",
       "       [5. , 3.3, 1.4, 0.2],\n",
       "       [7. , 3.2, 4.7, 1.4],\n",
       "       [6.4, 3.2, 4.5, 1.5],\n",
       "       [6.9, 3.1, 4.9, 1.5],\n",
       "       [5.5, 2.3, 4. , 1.3],\n",
       "       [6.5, 2.8, 4.6, 1.5],\n",
       "       [5.7, 2.8, 4.5, 1.3],\n",
       "       [6.3, 3.3, 4.7, 1.6],\n",
       "       [4.9, 2.4, 3.3, 1. ],\n",
       "       [6.6, 2.9, 4.6, 1.3],\n",
       "       [5.2, 2.7, 3.9, 1.4],\n",
       "       [5. , 2. , 3.5, 1. ],\n",
       "       [5.9, 3. , 4.2, 1.5],\n",
       "       [6. , 2.2, 4. , 1. ],\n",
       "       [6.1, 2.9, 4.7, 1.4],\n",
       "       [5.6, 2.9, 3.6, 1.3],\n",
       "       [6.7, 3.1, 4.4, 1.4],\n",
       "       [5.6, 3. , 4.5, 1.5],\n",
       "       [5.8, 2.7, 4.1, 1. ],\n",
       "       [6.2, 2.2, 4.5, 1.5],\n",
       "       [5.6, 2.5, 3.9, 1.1],\n",
       "       [5.9, 3.2, 4.8, 1.8],\n",
       "       [6.1, 2.8, 4. , 1.3],\n",
       "       [6.3, 2.5, 4.9, 1.5],\n",
       "       [6.1, 2.8, 4.7, 1.2],\n",
       "       [6.4, 2.9, 4.3, 1.3],\n",
       "       [6.6, 3. , 4.4, 1.4],\n",
       "       [6.8, 2.8, 4.8, 1.4],\n",
       "       [6.7, 3. , 5. , 1.7],\n",
       "       [6. , 2.9, 4.5, 1.5],\n",
       "       [5.7, 2.6, 3.5, 1. ],\n",
       "       [5.5, 2.4, 3.8, 1.1],\n",
       "       [5.5, 2.4, 3.7, 1. ],\n",
       "       [5.8, 2.7, 3.9, 1.2],\n",
       "       [6. , 2.7, 5.1, 1.6],\n",
       "       [5.4, 3. , 4.5, 1.5],\n",
       "       [6. , 3.4, 4.5, 1.6],\n",
       "       [6.7, 3.1, 4.7, 1.5],\n",
       "       [6.3, 2.3, 4.4, 1.3],\n",
       "       [5.6, 3. , 4.1, 1.3],\n",
       "       [5.5, 2.5, 4. , 1.3],\n",
       "       [5.5, 2.6, 4.4, 1.2],\n",
       "       [6.1, 3. , 4.6, 1.4],\n",
       "       [5.8, 2.6, 4. , 1.2],\n",
       "       [5. , 2.3, 3.3, 1. ],\n",
       "       [5.6, 2.7, 4.2, 1.3],\n",
       "       [5.7, 3. , 4.2, 1.2],\n",
       "       [5.7, 2.9, 4.2, 1.3],\n",
       "       [6.2, 2.9, 4.3, 1.3],\n",
       "       [5.1, 2.5, 3. , 1.1],\n",
       "       [5.7, 2.8, 4.1, 1.3],\n",
       "       [6.3, 3.3, 6. , 2.5],\n",
       "       [5.8, 2.7, 5.1, 1.9],\n",
       "       [7.1, 3. , 5.9, 2.1],\n",
       "       [6.3, 2.9, 5.6, 1.8],\n",
       "       [6.5, 3. , 5.8, 2.2],\n",
       "       [7.6, 3. , 6.6, 2.1],\n",
       "       [4.9, 2.5, 4.5, 1.7],\n",
       "       [7.3, 2.9, 6.3, 1.8],\n",
       "       [6.7, 2.5, 5.8, 1.8],\n",
       "       [7.2, 3.6, 6.1, 2.5],\n",
       "       [6.5, 3.2, 5.1, 2. ],\n",
       "       [6.4, 2.7, 5.3, 1.9],\n",
       "       [6.8, 3. , 5.5, 2.1],\n",
       "       [5.7, 2.5, 5. , 2. ],\n",
       "       [5.8, 2.8, 5.1, 2.4],\n",
       "       [6.4, 3.2, 5.3, 2.3],\n",
       "       [6.5, 3. , 5.5, 1.8],\n",
       "       [7.7, 3.8, 6.7, 2.2],\n",
       "       [7.7, 2.6, 6.9, 2.3],\n",
       "       [6. , 2.2, 5. , 1.5],\n",
       "       [6.9, 3.2, 5.7, 2.3],\n",
       "       [5.6, 2.8, 4.9, 2. ],\n",
       "       [7.7, 2.8, 6.7, 2. ],\n",
       "       [6.3, 2.7, 4.9, 1.8],\n",
       "       [6.7, 3.3, 5.7, 2.1],\n",
       "       [7.2, 3.2, 6. , 1.8],\n",
       "       [6.2, 2.8, 4.8, 1.8],\n",
       "       [6.1, 3. , 4.9, 1.8],\n",
       "       [6.4, 2.8, 5.6, 2.1],\n",
       "       [7.2, 3. , 5.8, 1.6],\n",
       "       [7.4, 2.8, 6.1, 1.9],\n",
       "       [7.9, 3.8, 6.4, 2. ],\n",
       "       [6.4, 2.8, 5.6, 2.2],\n",
       "       [6.3, 2.8, 5.1, 1.5],\n",
       "       [6.1, 2.6, 5.6, 1.4],\n",
       "       [7.7, 3. , 6.1, 2.3],\n",
       "       [6.3, 3.4, 5.6, 2.4],\n",
       "       [6.4, 3.1, 5.5, 1.8],\n",
       "       [6. , 3. , 4.8, 1.8],\n",
       "       [6.9, 3.1, 5.4, 2.1],\n",
       "       [6.7, 3.1, 5.6, 2.4],\n",
       "       [6.9, 3.1, 5.1, 2.3],\n",
       "       [5.8, 2.7, 5.1, 1.9],\n",
       "       [6.8, 3.2, 5.9, 2.3],\n",
       "       [6.7, 3.3, 5.7, 2.5],\n",
       "       [6.7, 3. , 5.2, 2.3],\n",
       "       [6.3, 2.5, 5. , 1.9],\n",
       "       [6.5, 3. , 5.2, 2. ],\n",
       "       [6.2, 3.4, 5.4, 2.3],\n",
       "       [5.9, 3. , 5.1, 1.8]])"
      ]
     },
     "execution_count": 12,
     "metadata": {},
     "output_type": "execute_result"
    }
   ],
   "source": [
    "iris = datasets.load_iris()\n",
    "data = iris.data\n",
    "target = iris.target\n",
    "\n",
    "data"
   ]
  },
  {
   "cell_type": "code",
   "execution_count": 13,
   "metadata": {},
   "outputs": [
    {
     "name": "stdout",
     "output_type": "stream",
     "text": [
      "[[0.7, 1.0, 1.0], [0.6, 1.0, 1.0], [0.6666666666666666, 1.0, 1.0], [0.7333333333333333, 1.0, 1.0], [0.6333333333333333, 1.0, 1.0]]\n"
     ]
    }
   ],
   "source": [
    "base = TwoClassesOneRestClassifier(data,target)\n",
    "# input = [6.5, 3. , 5.2, 2. ]\n",
    "print(base.test(5))"
   ]
  },
  {
   "cell_type": "code",
   "execution_count": 14,
   "metadata": {},
   "outputs": [],
   "source": [
    "# pred_result = test(base,input)\n",
    "# pred_result"
   ]
  },
  {
   "cell_type": "code",
   "execution_count": 15,
   "metadata": {},
   "outputs": [],
   "source": [
    "test_result = k_fold_test(base)\n",
    "test_result"
   ]
  },
  {
   "cell_type": "code",
   "execution_count": 16,
   "metadata": {},
   "outputs": [],
   "source": [
    "# matX = np.array([\n",
    "#     [1, 0, 3, 4, 9],\n",
    "#     [2, 2, 3, 6, 5],\n",
    "#     [-1, -2, 3, -4, 7],\n",
    "#     [1, 2, -3, 4, 6],\n",
    "# ])\n",
    "# matT = np.array([0,1,1,0])\n",
    "# xTx = np.dot(np.transpose(matX),matX)\n",
    "# w = np.dot(np.dot(np.linalg.inv(xTx),np.transpose(matX)),matT)\n",
    "# print(w)\n",
    "# print(np.linalg.det(xTx))"
   ]
  },
  {
   "cell_type": "code",
   "execution_count": 17,
   "metadata": {},
   "outputs": [],
   "source": [
    "# print(int(True))"
   ]
  }
 ],
 "metadata": {
  "kernelspec": {
   "display_name": "Python 3",
   "language": "python",
   "name": "python3"
  },
  "language_info": {
   "codemirror_mode": {
    "name": "ipython",
    "version": 3
   },
   "file_extension": ".py",
   "mimetype": "text/x-python",
   "name": "python",
   "nbconvert_exporter": "python",
   "pygments_lexer": "ipython3",
   "version": "3.12.1"
  }
 },
 "nbformat": 4,
 "nbformat_minor": 2
}
